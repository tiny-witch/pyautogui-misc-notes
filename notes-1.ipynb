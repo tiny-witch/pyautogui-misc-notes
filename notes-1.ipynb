{
 "cells": [
  {
   "cell_type": "markdown",
   "metadata": {},
   "source": [
    "# Docs: https://pyautogui.readthedocs.io/en/latest/"
   ]
  },
  {
   "cell_type": "markdown",
   "metadata": {},
   "source": [
    "## 101 examples from docs:"
   ]
  },
  {
   "cell_type": "code",
   "execution_count": 20,
   "metadata": {},
   "outputs": [],
   "source": [
    "import pyautogui\n",
    "import inspect"
   ]
  },
  {
   "cell_type": "markdown",
   "metadata": {},
   "source": [
    "# Getting screen stats:"
   ]
  },
  {
   "cell_type": "code",
   "execution_count": 2,
   "metadata": {},
   "outputs": [],
   "source": [
    "screenWidth, screenHeight = pyautogui.size() # Get the size of the primary monitor."
   ]
  },
  {
   "cell_type": "code",
   "execution_count": 3,
   "metadata": {},
   "outputs": [
    {
     "data": {
      "text/plain": [
       "(1680, 1050)"
      ]
     },
     "execution_count": 3,
     "metadata": {},
     "output_type": "execute_result"
    }
   ],
   "source": [
    "screenWidth, screenHeight"
   ]
  },
  {
   "cell_type": "code",
   "execution_count": 4,
   "metadata": {},
   "outputs": [
    {
     "data": {
      "text/plain": [
       "1050"
      ]
     },
     "execution_count": 4,
     "metadata": {},
     "output_type": "execute_result"
    }
   ],
   "source": [
    "screenHeight"
   ]
  },
  {
   "cell_type": "markdown",
   "metadata": {},
   "source": [
    "# Mouse: "
   ]
  },
  {
   "cell_type": "code",
   "execution_count": 5,
   "metadata": {},
   "outputs": [],
   "source": [
    "currentMouseX, currentMouseY = pyautogui.position() # Get the XY position of the mouse at this time."
   ]
  },
  {
   "cell_type": "code",
   "execution_count": 6,
   "metadata": {},
   "outputs": [
    {
     "data": {
      "text/plain": [
       "(1260, 491)"
      ]
     },
     "execution_count": 6,
     "metadata": {},
     "output_type": "execute_result"
    }
   ],
   "source": [
    "currentMouseX, currentMouseY"
   ]
  },
  {
   "cell_type": "markdown",
   "metadata": {},
   "source": [
    "# Manipulating the Mouse: \n",
    "Note:\n",
    "If the duration is less than **pyautogui.MINIMUM_DURATION** the movement will be instant. By default, **pyautogui.MINIMUM_DURATION is 0.1**.)"
   ]
  },
  {
   "cell_type": "markdown",
   "metadata": {},
   "source": [
    "Moving:"
   ]
  },
  {
   "cell_type": "code",
   "execution_count": 7,
   "metadata": {},
   "outputs": [],
   "source": [
    "pyautogui.moveTo(100, 200)   # moves mouse to X of 100, Y of 200."
   ]
  },
  {
   "cell_type": "code",
   "execution_count": 9,
   "metadata": {},
   "outputs": [
    {
     "name": "stdout",
     "output_type": "stream",
     "text": [
      "Point(x=488, y=354)\n",
      "Point(x=488, y=500)\n"
     ]
    }
   ],
   "source": [
    "print(pyautogui.position())\n",
    "pyautogui.moveTo(pyautogui.position()[0], 500)  # moves mouse to current position, Y of 500.\n",
    "print(pyautogui.position())"
   ]
  },
  {
   "cell_type": "code",
   "execution_count": 10,
   "metadata": {},
   "outputs": [
    {
     "name": "stdout",
     "output_type": "stream",
     "text": [
      "Point(x=761, y=527)\n",
      "Point(x=761, y=500)\n",
      "Point(x=751, y=550)\n"
     ]
    }
   ],
   "source": [
    "print(pyautogui.position())\n",
    "pyautogui.moveTo(pyautogui.position()[0], 500) \n",
    "print(pyautogui.position())\n",
    "pyautogui.move(-10, 50)       # move the mouse  relativelt -10, 50\n",
    "print(pyautogui.position())"
   ]
  },
  {
   "cell_type": "markdown",
   "metadata": {},
   "source": [
    "PyAutoGUI’s _dragTo()_ and _drag()_ functions have similar parameters as the _moveTo()_ and _move()_ functions. In addition, they have a button keyword which can be set to **'left', 'middle', and 'right'** for which **mouse button to hold down while dragging**. For example:"
   ]
  },
  {
   "cell_type": "code",
   "execution_count": 14,
   "metadata": {},
   "outputs": [
    {
     "name": "stdout",
     "output_type": "stream",
     "text": [
      "Help on function dragTo in module pyautogui:\n",
      "\n",
      "dragTo(x=None, y=None, duration=0.0, tween=<function linear at 0x7f91006e7940>, button='primary', logScreenshot=None, _pause=True, mouseDownUp=True)\n",
      "    Performs a mouse drag (mouse movement while a button is held down) to a\n",
      "    point on the screen.\n",
      "    \n",
      "    The x and y parameters detail where the mouse event happens. If None, the\n",
      "    current mouse position is used. If a float value, it is rounded down. If\n",
      "    outside the boundaries of the screen, the event happens at edge of the\n",
      "    screen.\n",
      "    \n",
      "    Args:\n",
      "      x (int, float, None, tuple, optional): How far left (for negative values) or\n",
      "        right (for positive values) to move the cursor. 0 by default. If tuple, this is used for x and y.\n",
      "        If x is a str, it's considered a filename of an image to find on\n",
      "        the screen with locateOnScreen() and click the center of.\n",
      "      y (int, float, None, optional): How far up (for negative values) or\n",
      "        down (for positive values) to move the cursor. 0 by default.\n",
      "      duration (float, optional): The amount of time it takes to move the mouse\n",
      "        cursor to the new xy coordinates. If 0, then the mouse cursor is moved\n",
      "        instantaneously. 0.0 by default.\n",
      "      tween (func, optional): The tweening function used if the duration is not\n",
      "        0. A linear tween is used by default.\n",
      "      button (str, int, optional): The mouse button released. TODO\n",
      "      mouseDownUp (True, False): When true, the mouseUp/Down actions are not performed.\n",
      "        Which allows dragging over multiple (small) actions. 'True' by default.\n",
      "    \n",
      "    Returns:\n",
      "      None\n",
      "\n"
     ]
    }
   ],
   "source": [
    "help(pyautogui.dragTo)"
   ]
  },
  {
   "cell_type": "code",
   "execution_count": 27,
   "metadata": {},
   "outputs": [
    {
     "name": "stdout",
     "output_type": "stream",
     "text": [
      "@_genericPyAutoGUIChecks\n",
      "def dragTo(\n",
      "    x=None, y=None, duration=0.0, tween=linear, button=PRIMARY, logScreenshot=None, _pause=True, mouseDownUp=True\n",
      "):\n",
      "    \"\"\"Performs a mouse drag (mouse movement while a button is held down) to a\n",
      "    point on the screen.\n",
      "\n",
      "    The x and y parameters detail where the mouse event happens. If None, the\n",
      "    current mouse position is used. If a float value, it is rounded down. If\n",
      "    outside the boundaries of the screen, the event happens at edge of the\n",
      "    screen.\n",
      "\n",
      "    Args:\n",
      "      x (int, float, None, tuple, optional): How far left (for negative values) or\n",
      "        right (for positive values) to move the cursor. 0 by default. If tuple, this is used for x and y.\n",
      "        If x is a str, it's considered a filename of an image to find on\n",
      "        the screen with locateOnScreen() and click the center of.\n",
      "      y (int, float, None, optional): How far up (for negative values) or\n",
      "        down (for positive values) to move the cursor. 0 by default.\n",
      "      duration (float, optional): The amount of time it takes to move the mouse\n",
      "        cursor to the new xy coordinates. If 0, then the mouse cursor is moved\n",
      "        instantaneously. 0.0 by default.\n",
      "      tween (func, optional): The tweening function used if the duration is not\n",
      "        0. A linear tween is used by default.\n",
      "      button (str, int, optional): The mouse button released. TODO\n",
      "      mouseDownUp (True, False): When true, the mouseUp/Down actions are not performed.\n",
      "        Which allows dragging over multiple (small) actions. 'True' by default.\n",
      "\n",
      "    Returns:\n",
      "      None\n",
      "    \"\"\"\n",
      "    x, y = _normalizeXYArgs(x, y)\n",
      "\n",
      "    _logScreenshot(logScreenshot, \"dragTo\", \"%s,%s\" % (x, y), folder=\".\")\n",
      "    if mouseDownUp:\n",
      "        mouseDown(button=button, logScreenshot=False, _pause=False)\n",
      "    _mouseMoveDrag(\"drag\", x, y, 0, 0, duration, tween, button)\n",
      "    if mouseDownUp:\n",
      "        mouseUp(button=button, logScreenshot=False, _pause=False)\n",
      "\n"
     ]
    }
   ],
   "source": [
    "print(inspect.getsource(pyautogui.dragTo))"
   ]
  },
  {
   "cell_type": "code",
   "execution_count": 11,
   "metadata": {},
   "outputs": [],
   "source": [
    "pyautogui.dragTo(100, 200, button='left')   "
   ]
  },
  {
   "cell_type": "markdown",
   "metadata": {},
   "source": [
    "# Easing:"
   ]
  },
  {
   "cell_type": "code",
   "execution_count": 30,
   "metadata": {},
   "outputs": [],
   "source": [
    "pyautogui.moveTo(100, 100, 2, pyautogui.easeInQuad)     # start slow, end fast\n",
    "pyautogui.moveTo(200, 100, 2, pyautogui.easeOutQuad)    # start fast, end slow\n",
    "pyautogui.moveTo(100, 200, 2, pyautogui.easeInOutQuad)  # start and end fast, slow in middle\n",
    "pyautogui.moveTo(100, 100, 2, pyautogui.easeInBounce)   # bounce at the end\n",
    "pyautogui.moveTo(200, 100, 2, pyautogui.easeInElastic)  # rubber band at the end"
   ]
  },
  {
   "cell_type": "markdown",
   "metadata": {},
   "source": [
    "# Scrolling:\n",
    "note: scrolling doesn't work too well in jupyter notebooks"
   ]
  },
  {
   "cell_type": "code",
   "execution_count": 45,
   "metadata": {},
   "outputs": [],
   "source": [
    "pyautogui.scroll(100, x=100, y=400)  # move mouse cursor to 100, 200, then scroll up 10 \"clicks\""
   ]
  },
  {
   "cell_type": "code",
   "execution_count": 54,
   "metadata": {},
   "outputs": [],
   "source": [
    "pyautogui.click(x=100, y=400)  # move to 100, 200, then click the left mouse button.\n",
    "# pyautogui.moveTo(100, 100, 2, pyautogui.easeInQuad)  \n",
    "pyautogui.scroll(40)  # scroll down 10 \"clicks\""
   ]
  },
  {
   "cell_type": "markdown",
   "metadata": {},
   "source": [
    "## Failsafes:\n",
    "Like the enchanted brooms from the Sorcerer’s Apprentice programmed to keep filling (and then overfilling) the bath with water, a bug in your program could make it go out of control. It’s hard to use the mouse to close a program if the mouse cursor is moving around on its own.\n",
    "\n",
    "As a safety feature, a fail-safe feature is enabled by default. When a PyAutoGUI function is called, if the mouse is in any of the four corners of the primary monitor, they will raise a pyautogui.FailSafeException. There is a one-tenth second delay after calling every PyAutoGUI functions to give the user time to slam the mouse into a corner to trigger the fail safe.\n",
    "\n",
    "You can disable this failsafe by setting pyautogui.FAILSAFE = False. I HIGHLY RECOMMEND YOU DO NOT DISABLE THE FAILSAFE.\n",
    "\n",
    "The tenth-second delay is set by the pyautogui.PAUSE setting, which is 0.1 by default. You can change this value. There is also a pyautogui.DARWIN_CATCH_UP_TIME setting which adds an additional delay on macOS after keyboard and mouse events, since the operating system appears to need a delay after PyAutoGUI issues these events. It is set to 0.01 by default, adding an additional hundredth-second delay."
   ]
  },
  {
   "cell_type": "code",
   "execution_count": null,
   "metadata": {},
   "outputs": [],
   "source": []
  },
  {
   "cell_type": "markdown",
   "metadata": {},
   "source": [
    "### taking a screenshot:\n",
    "```\n",
    "im2 = pyautogui.screenshot('my_screenshot.png')\n",
    "\n",
    "im = pyautogui.screenshot(region=(0,0, 300, 400))\n",
    "\n",
    "```"
   ]
  },
  {
   "cell_type": "code",
   "execution_count": null,
   "metadata": {},
   "outputs": [],
   "source": []
  },
  {
   "cell_type": "code",
   "execution_count": null,
   "metadata": {},
   "outputs": [],
   "source": []
  }
 ],
 "metadata": {
  "kernelspec": {
   "display_name": "Python 3",
   "language": "python",
   "name": "python3"
  },
  "language_info": {
   "codemirror_mode": {
    "name": "ipython",
    "version": 3
   },
   "file_extension": ".py",
   "mimetype": "text/x-python",
   "name": "python",
   "nbconvert_exporter": "python",
   "pygments_lexer": "ipython3",
   "version": "3.8.3"
  }
 },
 "nbformat": 4,
 "nbformat_minor": 4
}
